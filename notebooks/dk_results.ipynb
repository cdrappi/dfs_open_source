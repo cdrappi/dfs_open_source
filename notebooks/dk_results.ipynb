{
 "cells": [
  {
   "cell_type": "code",
   "execution_count": 7,
   "metadata": {
    "collapsed": false
   },
   "outputs": [],
   "source": [
    "import re\n",
    "import datetime\n",
    "import pandas"
   ]
  },
  {
   "cell_type": "code",
   "execution_count": 8,
   "metadata": {
    "collapsed": false
   },
   "outputs": [],
   "source": [
    "from IPython.display import display, HTML"
   ]
  },
  {
   "cell_type": "code",
   "execution_count": null,
   "metadata": {
    "collapsed": false
   },
   "outputs": [],
   "source": []
  },
  {
   "cell_type": "code",
   "execution_count": 9,
   "metadata": {
    "collapsed": false
   },
   "outputs": [],
   "source": [
    "results = pandas.read_csv('~/Downloads/draftkings-contest-entry-history.csv')"
   ]
  },
  {
   "cell_type": "code",
   "execution_count": 21,
   "metadata": {
    "collapsed": false
   },
   "outputs": [],
   "source": [
    "results['year'] = results['Contest_Date_EST'].apply(lambda k: k[0:4])\n",
    "results['month'] = results['Contest_Date_EST'].apply(lambda k: k[0:7])\n",
    "results['entry_fee'] = results['Entry_Fee'].apply(lambda k: float(re.sub('\\$|,', '', k)))\n",
    "results['recoup_nonticket'] = results['Winnings_Non_Ticket'].apply(lambda k: float(k.replace('$','').replace(',','')))\n",
    "results['recoup_ticket']    = results['Winnings_Ticket'].apply(lambda k: float(k.replace('$','').replace(',','')))\n",
    "results['recoup']           = results['recoup_nonticket'] + results['recoup_ticket']\n",
    "results['pnl']              = results['recoup'] - results['entry_fee']"
   ]
  },
  {
   "cell_type": "code",
   "execution_count": 1,
   "metadata": {
    "collapsed": false
   },
   "outputs": [],
   "source": [
    "sport_years = results.groupby(['Sport','year','month'], as_index=False).aggregate({'entry_fee': 'sum','recoup': 'sum','pnl':'sum'})\n",
    "sport_years.sort_values(['pnl',], ascending=False)"
   ]
  },
  {
   "cell_type": "code",
   "execution_count": 2,
   "metadata": {
    "collapsed": false
   },
   "outputs": [],
   "source": [
    "sport_years.groupby(['year'], as_index=False).aggregate({'pnl':'sum'})"
   ]
  },
  {
   "cell_type": "code",
   "execution_count": null,
   "metadata": {
    "collapsed": true
   },
   "outputs": [],
   "source": []
  },
  {
   "cell_type": "code",
   "execution_count": 29,
   "metadata": {
    "collapsed": true
   },
   "outputs": [],
   "source": [
    "nba = sport_years[sport_years['Sport']=='NBA']"
   ]
  },
  {
   "cell_type": "code",
   "execution_count": 3,
   "metadata": {
    "collapsed": false
   },
   "outputs": [],
   "source": [
    "nba"
   ]
  },
  {
   "cell_type": "code",
   "execution_count": null,
   "metadata": {
    "collapsed": true
   },
   "outputs": [],
   "source": []
  }
 ],
 "metadata": {
  "kernelspec": {
   "display_name": "Python 3",
   "language": "python",
   "name": "python3"
  },
  "language_info": {
   "codemirror_mode": {
    "name": "ipython",
    "version": 3
   },
   "file_extension": ".py",
   "mimetype": "text/x-python",
   "name": "python",
   "nbconvert_exporter": "python",
   "pygments_lexer": "ipython3",
   "version": "3.5.2"
  }
 },
 "nbformat": 4,
 "nbformat_minor": 0
}
